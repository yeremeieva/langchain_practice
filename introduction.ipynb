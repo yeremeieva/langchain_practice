{
 "cells": [
  {
   "cell_type": "markdown",
   "source": [
    "### Installations"
   ],
   "metadata": {
    "collapsed": false
   }
  },
  {
   "cell_type": "code",
   "execution_count": 18,
   "metadata": {
    "collapsed": true,
    "ExecuteTime": {
     "end_time": "2024-04-03T18:03:08.420582Z",
     "start_time": "2024-04-03T18:03:05.758542Z"
    }
   },
   "outputs": [],
   "source": [
    "!pip --q install langchain huggingface_hub openai langchain-openai"
   ]
  },
  {
   "cell_type": "markdown",
   "source": [
    "### Imports"
   ],
   "metadata": {
    "collapsed": false
   }
  },
  {
   "cell_type": "code",
   "execution_count": 2,
   "outputs": [],
   "source": [
    "import os"
   ],
   "metadata": {
    "collapsed": false,
    "ExecuteTime": {
     "end_time": "2024-04-03T18:01:09.321992Z",
     "start_time": "2024-04-03T18:01:09.318307Z"
    }
   }
  },
  {
   "cell_type": "markdown",
   "source": [
    "The core idea of the library is that we can “chain” together different components to create more advanced use cases around LLMs. Chains may consist of multiple components from several modules:\n",
    "\n",
    "1. **Prompt templates**: Prompt templates are templates for different types of prompts. Like “chatbot” style templates, ELI5 question-answering, etc\n",
    "2. **LLMs**: Large language models like GPT-3, BLOOM, etc\n",
    "3. **Agents**: Agents use LLMs to decide what actions should be taken. Tools like web search or calculators can be used, and all are packaged into a logical loop of operations.\n",
    "4. **Memory**: Short-term memory, long-term memory."
   ],
   "metadata": {
    "collapsed": false
   }
  },
  {
   "cell_type": "markdown",
   "source": [
    "# Hugging Face Hub"
   ],
   "metadata": {
    "collapsed": false
   }
  },
  {
   "cell_type": "markdown",
   "source": [
    "### Template"
   ],
   "metadata": {
    "collapsed": false
   }
  },
  {
   "cell_type": "code",
   "execution_count": 3,
   "outputs": [
    {
     "name": "stderr",
     "output_type": "stream",
     "text": [
      "/Users/sophiayeremeeva/Desktop/CS/ML/code/langchain/venv/lib/python3.9/site-packages/urllib3/__init__.py:35: NotOpenSSLWarning: urllib3 v2 only supports OpenSSL 1.1.1+, currently the 'ssl' module is compiled with 'LibreSSL 2.8.3'. See: https://github.com/urllib3/urllib3/issues/3020\n",
      "  warnings.warn(\n"
     ]
    }
   ],
   "source": [
    "from langchain import PromptTemplate\n",
    "\n",
    "template = \"\"\"Question: {question}\n",
    "\n",
    "Answer: \"\"\"\n",
    "prompt = PromptTemplate(\n",
    "        template=template,\n",
    "    input_variables=['question']\n",
    ")\n",
    "\n",
    "question = \"What is the most famous song from Eurovision?\""
   ],
   "metadata": {
    "collapsed": false,
    "ExecuteTime": {
     "end_time": "2024-04-03T18:01:10.845653Z",
     "start_time": "2024-04-03T18:01:10.398378Z"
    }
   }
  },
  {
   "cell_type": "markdown",
   "source": [
    "### LLM Chain"
   ],
   "metadata": {
    "collapsed": false
   }
  },
  {
   "cell_type": "code",
   "execution_count": 4,
   "outputs": [],
   "source": [
    "os.environ['HUGGINGFACEHUB_API_TOKEN'] = 'hf'"
   ],
   "metadata": {
    "collapsed": false,
    "ExecuteTime": {
     "end_time": "2024-04-03T18:01:20.672037Z",
     "start_time": "2024-04-03T18:01:20.666177Z"
    }
   }
  },
  {
   "cell_type": "code",
   "execution_count": 5,
   "outputs": [
    {
     "name": "stderr",
     "output_type": "stream",
     "text": [
      "/Users/sophiayeremeeva/Desktop/CS/ML/code/langchain/venv/lib/python3.9/site-packages/langchain_core/_api/deprecation.py:117: LangChainDeprecationWarning: The class `langchain_community.llms.huggingface_hub.HuggingFaceHub` was deprecated in langchain-community 0.0.21 and will be removed in 0.2.0. Use HuggingFaceEndpoint instead.\n",
      "  warn_deprecated(\n",
      "/Users/sophiayeremeeva/Desktop/CS/ML/code/langchain/venv/lib/python3.9/site-packages/langchain_core/_api/deprecation.py:117: LangChainDeprecationWarning: The function `run` was deprecated in LangChain 0.1.0 and will be removed in 0.2.0. Use invoke instead.\n",
      "  warn_deprecated(\n"
     ]
    },
    {
     "name": "stdout",
     "output_type": "stream",
     "text": [
      "i want to be a star\n"
     ]
    }
   ],
   "source": [
    "from langchain import HuggingFaceHub, LLMChain\n",
    "\n",
    "flan_t5 = HuggingFaceHub(repo_id='google/flan-t5-large', model_kwargs={'temperature':1e-10})\n",
    "\n",
    "llm_chain = LLMChain(prompt=prompt, llm=flan_t5)\n",
    "\n",
    "print(llm_chain.run(question))"
   ],
   "metadata": {
    "collapsed": false,
    "ExecuteTime": {
     "end_time": "2024-04-03T18:01:22.287588Z",
     "start_time": "2024-04-03T18:01:21.126968Z"
    }
   }
  },
  {
   "cell_type": "markdown",
   "source": [
    "### Multiple questions"
   ],
   "metadata": {
    "collapsed": false
   }
  },
  {
   "cell_type": "code",
   "execution_count": 6,
   "outputs": [],
   "source": [
    "qs = [\n",
    "    {'question': \"How many countries are in European Union?\"},\n",
    "    {'question': \"How many official languages aer in Switzerland?\"},\n",
    "    {'question': \"What is a rank of EPFL?\"}\n",
    "]"
   ],
   "metadata": {
    "collapsed": false,
    "ExecuteTime": {
     "end_time": "2024-04-03T18:01:38.541689Z",
     "start_time": "2024-04-03T18:01:38.490448Z"
    }
   }
  },
  {
   "cell_type": "code",
   "execution_count": 7,
   "outputs": [],
   "source": [
    "result = llm_chain.generate(qs)"
   ],
   "metadata": {
    "collapsed": false,
    "ExecuteTime": {
     "end_time": "2024-04-03T18:01:39.487156Z",
     "start_time": "2024-04-03T18:01:39.321642Z"
    }
   }
  },
  {
   "cell_type": "code",
   "execution_count": 8,
   "outputs": [
    {
     "name": "stdout",
     "output_type": "stream",
     "text": [
      "generations=[[Generation(text='71')], [Generation(text='ten')], [Generation(text='tenth')]] llm_output=None run=[RunInfo(run_id=UUID('f0cc1522-a9cc-492d-8c79-b3adf6845708')), RunInfo(run_id=UUID('b7fc633b-ba96-45fa-aa83-5578f82c5a7c')), RunInfo(run_id=UUID('cd0db1f5-867a-440b-b323-abccb5ec8e8e'))]\n"
     ]
    }
   ],
   "source": [
    "print(result)"
   ],
   "metadata": {
    "collapsed": false,
    "ExecuteTime": {
     "end_time": "2024-04-03T18:01:39.740959Z",
     "start_time": "2024-04-03T18:01:39.735973Z"
    }
   }
  },
  {
   "cell_type": "markdown",
   "source": [
    "### Multiple questions in one prompt"
   ],
   "metadata": {
    "collapsed": false
   }
  },
  {
   "cell_type": "code",
   "execution_count": 9,
   "outputs": [],
   "source": [
    "multi_template = \"\"\"Answer the following questions one at a time.\n",
    "\n",
    "Questions:\n",
    "{questions}\n",
    "\n",
    "Answers:\n",
    "\"\"\""
   ],
   "metadata": {
    "collapsed": false,
    "ExecuteTime": {
     "end_time": "2024-04-03T18:01:41.405623Z",
     "start_time": "2024-04-03T18:01:41.401651Z"
    }
   }
  },
  {
   "cell_type": "code",
   "execution_count": 10,
   "outputs": [],
   "source": [
    "long_prompt = PromptTemplate(template=multi_template, input_variables=[\"questions\"])"
   ],
   "metadata": {
    "collapsed": false,
    "ExecuteTime": {
     "end_time": "2024-04-03T18:01:42.085707Z",
     "start_time": "2024-04-03T18:01:42.078317Z"
    }
   }
  },
  {
   "cell_type": "code",
   "execution_count": 11,
   "outputs": [],
   "source": [
    "llm_chain = LLMChain(prompt=long_prompt, llm=flan_t5)"
   ],
   "metadata": {
    "collapsed": false,
    "ExecuteTime": {
     "end_time": "2024-04-03T18:01:43.535961Z",
     "start_time": "2024-04-03T18:01:43.533183Z"
    }
   }
  },
  {
   "cell_type": "code",
   "execution_count": 12,
   "outputs": [],
   "source": [
    "qs_str = (\"How many countries are in European Union?\\n\" +\n",
    "          \"How many official languages aer in Switzerland?\\n\" +\n",
    "          \"What is a rank of EPFL?\")"
   ],
   "metadata": {
    "collapsed": false,
    "ExecuteTime": {
     "end_time": "2024-04-03T18:01:44.011701Z",
     "start_time": "2024-04-03T18:01:44.007904Z"
    }
   }
  },
  {
   "cell_type": "code",
   "execution_count": 13,
   "outputs": [
    {
     "name": "stdout",
     "output_type": "stream",
     "text": [
      "The European Football League (EFL) is the governing body of football in the European Union\n"
     ]
    }
   ],
   "source": [
    "print(llm_chain.run(qs_str))"
   ],
   "metadata": {
    "collapsed": false,
    "ExecuteTime": {
     "end_time": "2024-04-03T18:01:44.532039Z",
     "start_time": "2024-04-03T18:01:44.479969Z"
    }
   }
  },
  {
   "cell_type": "markdown",
   "source": [
    "# OpenAI"
   ],
   "metadata": {
    "collapsed": false
   }
  },
  {
   "cell_type": "code",
   "execution_count": 19,
   "outputs": [],
   "source": [
    "from langchain_openai import ChatOpenAI\n",
    "\n",
    "os.environ['OPENAI_API_KEY'] = 'sk'\n",
    "\n",
    "gpt = ChatOpenAI(model_name='gpt-4-turbo-preview')"
   ],
   "metadata": {
    "collapsed": false,
    "ExecuteTime": {
     "end_time": "2024-04-03T18:03:17.709354Z",
     "start_time": "2024-04-03T18:03:17.245142Z"
    }
   }
  },
  {
   "cell_type": "code",
   "execution_count": 20,
   "outputs": [],
   "source": [
    "llm_chain = LLMChain(prompt=prompt, llm=gpt)"
   ],
   "metadata": {
    "collapsed": false,
    "ExecuteTime": {
     "end_time": "2024-04-03T18:03:24.148046Z",
     "start_time": "2024-04-03T18:03:24.142783Z"
    }
   }
  },
  {
   "cell_type": "code",
   "execution_count": 21,
   "outputs": [
    {
     "name": "stdout",
     "output_type": "stream",
     "text": [
      "The most famous song from the Eurovision Song Contest is arguably \"Waterloo\" by ABBA, which won the competition for Sweden in 1974. This victory launched ABBA's international career, making them one of the best-selling music artists of all time. The song \"Waterloo\" itself has become an iconic Eurovision anthem, celebrated for its catchy tune and memorable performance.\n"
     ]
    }
   ],
   "source": [
    "print(llm_chain.run(question))"
   ],
   "metadata": {
    "collapsed": false,
    "ExecuteTime": {
     "end_time": "2024-04-03T18:03:29.128711Z",
     "start_time": "2024-04-03T18:03:25.220726Z"
    }
   }
  },
  {
   "cell_type": "code",
   "execution_count": 22,
   "outputs": [
    {
     "data": {
      "text/plain": "LLMResult(generations=[[ChatGeneration(text='As of my last update in April 2023, there are 27 countries in the European Union (EU).', generation_info={'finish_reason': 'stop', 'logprobs': None}, message=AIMessage(content='As of my last update in April 2023, there are 27 countries in the European Union (EU).', response_metadata={'token_usage': {'completion_tokens': 23, 'prompt_tokens': 20, 'total_tokens': 43}, 'model_name': 'gpt-4-turbo-preview', 'system_fingerprint': 'fp_f38f4d6482', 'finish_reason': 'stop', 'logprobs': None}, id='run-d2bdc00a-70b9-41d5-b5e0-7526e48e4776-0'))], [ChatGeneration(text='Switzerland officially recognizes four languages: German, French, Italian, and Romansh.', generation_info={'finish_reason': 'stop', 'logprobs': None}, message=AIMessage(content='Switzerland officially recognizes four languages: German, French, Italian, and Romansh.', response_metadata={'token_usage': {'completion_tokens': 17, 'prompt_tokens': 20, 'total_tokens': 37}, 'model_name': 'gpt-4-turbo-preview', 'system_fingerprint': 'fp_f38f4d6482', 'finish_reason': 'stop', 'logprobs': None}, id='run-a8208bee-a152-4aaf-b195-ffecab9735ae-0'))], [ChatGeneration(text=\"As of my last update in April 2023, the École Polytechnique Fédérale de Lausanne (EPFL) is consistently ranked as one of the world's top universities in the field of engineering and technology. According to QS World University Rankings for 2022, EPFL was ranked 14th in the world. However, it's important to note that university rankings can vary slightly between different ranking institutions and can change from year to year. For the most current ranking, I recommend checking the latest QS World University Rankings or other reputable sources such as Times Higher Education or the Academic Ranking of World Universities.\", generation_info={'finish_reason': 'stop', 'logprobs': None}, message=AIMessage(content=\"As of my last update in April 2023, the École Polytechnique Fédérale de Lausanne (EPFL) is consistently ranked as one of the world's top universities in the field of engineering and technology. According to QS World University Rankings for 2022, EPFL was ranked 14th in the world. However, it's important to note that university rankings can vary slightly between different ranking institutions and can change from year to year. For the most current ranking, I recommend checking the latest QS World University Rankings or other reputable sources such as Times Higher Education or the Academic Ranking of World Universities.\", response_metadata={'token_usage': {'completion_tokens': 127, 'prompt_tokens': 20, 'total_tokens': 147}, 'model_name': 'gpt-4-turbo-preview', 'system_fingerprint': 'fp_f38f4d6482', 'finish_reason': 'stop', 'logprobs': None}, id='run-64a0e241-209a-4e84-a80b-faa442067c27-0'))]], llm_output={'token_usage': {'completion_tokens': 167, 'prompt_tokens': 60, 'total_tokens': 227}, 'model_name': 'gpt-4-turbo-preview', 'system_fingerprint': 'fp_f38f4d6482'}, run=[RunInfo(run_id=UUID('d2bdc00a-70b9-41d5-b5e0-7526e48e4776')), RunInfo(run_id=UUID('a8208bee-a152-4aaf-b195-ffecab9735ae')), RunInfo(run_id=UUID('64a0e241-209a-4e84-a80b-faa442067c27'))])"
     },
     "execution_count": 22,
     "metadata": {},
     "output_type": "execute_result"
    }
   ],
   "source": [
    "llm_chain.generate(qs)"
   ],
   "metadata": {
    "collapsed": false,
    "ExecuteTime": {
     "end_time": "2024-04-03T18:04:22.318423Z",
     "start_time": "2024-04-03T18:04:12.558821Z"
    }
   }
  },
  {
   "cell_type": "code",
   "execution_count": 23,
   "outputs": [
    {
     "name": "stdout",
     "output_type": "stream",
     "text": [
      "As of my last update in April 2023, there are 27 countries in the European Union (EU). The United Kingdom was the latest country to leave the EU, officially departing on January 31, 2020, in an event commonly referred to as Brexit.\n",
      "\n",
      "Switzerland has four official languages: German, French, Italian, and Romansh. These languages reflect the country's diverse linguistic and cultural regions.\n",
      "\n",
      "The École Polytechnique Fédérale de Lausanne (EPFL) is consistently ranked as one of the world's top universities in various global university rankings. Its specific rank can vary by source and year. For example, in the QS World University Rankings, EPFL has often been placed within the top 20 globally and is highly regarded, particularly in fields such as Engineering, Technology, and Sciences. However, for the most precise and current ranking, it's best to consult the latest version of the ranking report you are interested in, as university rankings can fluctuate annually based on various factors.\n"
     ]
    }
   ],
   "source": [
    "print(llm_chain.run(qs_str))"
   ],
   "metadata": {
    "collapsed": false,
    "ExecuteTime": {
     "end_time": "2024-04-03T18:05:51.630253Z",
     "start_time": "2024-04-03T18:05:41.605723Z"
    }
   }
  },
  {
   "cell_type": "code",
   "execution_count": null,
   "outputs": [],
   "source": [],
   "metadata": {
    "collapsed": false
   }
  }
 ],
 "metadata": {
  "kernelspec": {
   "display_name": "Python 3",
   "language": "python",
   "name": "python3"
  },
  "language_info": {
   "codemirror_mode": {
    "name": "ipython",
    "version": 2
   },
   "file_extension": ".py",
   "mimetype": "text/x-python",
   "name": "python",
   "nbconvert_exporter": "python",
   "pygments_lexer": "ipython2",
   "version": "2.7.6"
  }
 },
 "nbformat": 4,
 "nbformat_minor": 0
}
